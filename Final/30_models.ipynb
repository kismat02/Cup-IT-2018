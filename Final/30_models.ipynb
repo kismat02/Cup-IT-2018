{
 "cells": [
  {
   "cell_type": "code",
   "execution_count": 133,
   "metadata": {
    "ExecuteTime": {
     "end_time": "2018-03-31T22:01:51.622198Z",
     "start_time": "2018-03-31T22:01:51.610233Z"
    },
    "collapsed": true
   },
   "outputs": [],
   "source": [
    "import pandas as pd\n",
    "import math as m\n",
    "import matplotlib.pyplot as plt\n",
    "from sklearn.cross_validation import train_test_split\n",
    "import numpy as np\n",
    "from tqdm import tqdm_notebook\n",
    "from sklearn import  metrics\n",
    "from sklearn.ensemble import RandomForestClassifier\n",
    "from xgboost import XGBClassifier\n",
    "from sklearn.metrics import accuracy_score, log_loss, f1_score\n",
    "from sklearn.linear_model import LogisticRegression, LinearRegression\n",
    "%matplotlib inline"
   ]
  },
  {
   "cell_type": "code",
   "execution_count": 135,
   "metadata": {
    "ExecuteTime": {
     "end_time": "2018-03-31T22:03:44.926764Z",
     "start_time": "2018-03-31T22:03:44.892788Z"
    }
   },
   "outputs": [
    {
     "name": "stderr",
     "output_type": "stream",
     "text": [
      "/anaconda/lib/python3.6/importlib/_bootstrap.py:205: RuntimeWarning: compiletime version 3.5 of module '_catboost' does not match runtime version 3.6\n",
      "  return f(*args, **kwds)\n"
     ]
    }
   ],
   "source": [
    "from catboost import CatBoostClassifier\n",
    "from sklearn.model_selection import cross_val_score, cross_val_predict\n",
    "import lightgbm as lgbm\n",
    "from sklearn.model_selection import cross_val_predict, cross_val_score\n",
    "from sklearn.linear_model import LogisticRegression\n",
    "from sklearn.ensemble import RandomForestClassifier\n",
    "from sklearn.neighbors import KNeighborsClassifier as KNN\n",
    "from sklearn.ensemble import ExtraTreesClassifier\n",
    "from sklearn.svm import SVC\n",
    "from sklearn.ensemble import AdaBoostClassifier"
   ]
  },
  {
   "cell_type": "code",
   "execution_count": 2,
   "metadata": {
    "ExecuteTime": {
     "end_time": "2018-03-31T21:29:27.855927Z",
     "start_time": "2018-03-31T21:29:27.846975Z"
    },
    "collapsed": true
   },
   "outputs": [],
   "source": [
    "train = pd.DataFrame.from_csv('AHAN_TRAIN.csv')\n",
    "test = pd.DataFrame.from_csv('AHAN_TEST.csv')\n",
    "train.drop('LTTIME', axis=1, inplace=True)\n",
    "test.drop('LTTIME', axis=1, inplace=True)"
   ]
  },
  {
   "cell_type": "code",
   "execution_count": 3,
   "metadata": {
    "ExecuteTime": {
     "end_time": "2018-03-31T21:29:28.396292Z",
     "start_time": "2018-03-31T21:29:28.392300Z"
    },
    "collapsed": true
   },
   "outputs": [],
   "source": [
    "def get_data_model(train, n, target_col = 'target'):\n",
    "    if n==1:\n",
    "        print ('Already exists')\n",
    "    else:\n",
    "        train[\"target\"+'_'+str(n)] = np.nan\n",
    "        train.loc[:,\"target\"+'_'+str(n)] = np.append(train.target[n-1:].values,[np.nan]*(n-1))"
   ]
  },
  {
   "cell_type": "code",
   "execution_count": 188,
   "metadata": {
    "ExecuteTime": {
     "end_time": "2018-03-31T22:06:06.155798Z",
     "start_time": "2018-03-31T22:06:06.139819Z"
    },
    "collapsed": true
   },
   "outputs": [],
   "source": [
    "def predict(train, model_type):\n",
    "    for i in range(2, 19):\n",
    "        get_data_model(train, n=i)\n",
    "    target_col = [\"target\"+'_'+str(x) for x in range(1,19)]\n",
    "    target_col[0] = 'target'\n",
    "    estimaters = []\n",
    "    \n",
    "    for i in range(18):\n",
    "        model = model_type#RandomForestClassifier(max_depth=3)\n",
    "        model.fit(train[list(train.columns[:-18])+[target_col[i]]].dropna().drop(target_col[i], axis=1),\n",
    "                  train[target_col[i]].dropna())\n",
    "        estimaters.append(model)\n",
    "        \n",
    "    pred_month = []\n",
    "    for day in range(1, 19):\n",
    "        pred_day = []\n",
    "        for i in range(day-1, 18):\n",
    "            pred_day.append(estimaters[i].predict_proba(train.iloc[[-(i+1)]].drop(target_col, axis=1))[0][0])\n",
    "        pred_day = np.array(pred_day)\n",
    "        pred_month.append(pred_day)\n",
    "    pred_month = np.array(pred_month)\n",
    "    \n",
    "    preds = []\n",
    "    for i in range(18):\n",
    "        preds.append((pred_month[i].mean().round()))\n",
    "    return preds, pred_month"
   ]
  },
  {
   "cell_type": "code",
   "execution_count": 193,
   "metadata": {
    "ExecuteTime": {
     "end_time": "2018-03-31T22:06:35.529524Z",
     "start_time": "2018-03-31T22:06:34.219399Z"
    },
    "scrolled": true
   },
   "outputs": [
    {
     "name": "stderr",
     "output_type": "stream",
     "text": [
      "/anaconda/lib/python3.6/site-packages/ipykernel_launcher.py:5: SettingWithCopyWarning: \n",
      "A value is trying to be set on a copy of a slice from a DataFrame.\n",
      "Try using .loc[row_indexer,col_indexer] = value instead\n",
      "\n",
      "See the caveats in the documentation: http://pandas.pydata.org/pandas-docs/stable/indexing.html#indexing-view-versus-copy\n",
      "  \"\"\"\n",
      "/anaconda/lib/python3.6/site-packages/pandas/core/indexing.py:517: SettingWithCopyWarning: \n",
      "A value is trying to be set on a copy of a slice from a DataFrame.\n",
      "Try using .loc[row_indexer,col_indexer] = value instead\n",
      "\n",
      "See the caveats in the documentation: http://pandas.pydata.org/pandas-docs/stable/indexing.html#indexing-view-versus-copy\n",
      "  self.obj[item] = s\n"
     ]
    }
   ],
   "source": [
    "pred, month = predict(train[:], XGBClassifier())"
   ]
  },
  {
   "cell_type": "code",
   "execution_count": 194,
   "metadata": {
    "ExecuteTime": {
     "end_time": "2018-03-31T22:06:35.719568Z",
     "start_time": "2018-03-31T22:06:35.715146Z"
    }
   },
   "outputs": [
    {
     "data": {
      "text/plain": [
       "0.61111111111111116"
      ]
     },
     "execution_count": 194,
     "metadata": {},
     "output_type": "execute_result"
    }
   ],
   "source": [
    "accuracy_score(test.target,pred)"
   ]
  },
  {
   "cell_type": "code",
   "execution_count": 195,
   "metadata": {
    "ExecuteTime": {
     "end_time": "2018-03-31T22:06:35.911496Z",
     "start_time": "2018-03-31T22:06:35.906464Z"
    }
   },
   "outputs": [
    {
     "name": "stdout",
     "output_type": "stream",
     "text": [
      "Predictions:  [0.0, 0.0, 0.0, 0.0, 0.0, 0.0, 0.0, 0.0, 0.0, 0.0, 0.0, 0.0, 1.0, 1.0, 1.0, 1.0, 1.0, 1.0]\n",
      "Target:  [0 0 0 0 1 0 1 1 0 0 0 0 1 0 0 0 1 0]\n"
     ]
    }
   ],
   "source": [
    "print(\"Predictions: \", pred)\n",
    "print(\"Target: \", test.target.values)"
   ]
  },
  {
   "cell_type": "code",
   "execution_count": 196,
   "metadata": {
    "ExecuteTime": {
     "end_time": "2018-03-31T22:06:36.106897Z",
     "start_time": "2018-03-31T22:06:36.101938Z"
    }
   },
   "outputs": [
    {
     "data": {
      "text/plain": [
       "0.36363636363636359"
      ]
     },
     "execution_count": 196,
     "metadata": {},
     "output_type": "execute_result"
    }
   ],
   "source": [
    "f1_score(test.target,pred)"
   ]
  }
 ],
 "metadata": {
  "kernelspec": {
   "display_name": "Python 3",
   "language": "python",
   "name": "python3"
  },
  "language_info": {
   "codemirror_mode": {
    "name": "ipython",
    "version": 3
   },
   "file_extension": ".py",
   "mimetype": "text/x-python",
   "name": "python",
   "nbconvert_exporter": "python",
   "pygments_lexer": "ipython3",
   "version": "3.6.8"
  },
  "toc": {
   "nav_menu": {},
   "number_sections": true,
   "sideBar": true,
   "skip_h1_title": false,
   "title_cell": "Table of Contents",
   "title_sidebar": "Contents",
   "toc_cell": false,
   "toc_position": {},
   "toc_section_display": true,
   "toc_window_display": false
  },
  "varInspector": {
   "cols": {
    "lenName": 16,
    "lenType": 16,
    "lenVar": 40
   },
   "kernels_config": {
    "python": {
     "delete_cmd_postfix": "",
     "delete_cmd_prefix": "del ",
     "library": "var_list.py",
     "varRefreshCmd": "print(var_dic_list())"
    },
    "r": {
     "delete_cmd_postfix": ") ",
     "delete_cmd_prefix": "rm(",
     "library": "var_list.r",
     "varRefreshCmd": "cat(var_dic_list()) "
    }
   },
   "types_to_exclude": [
    "module",
    "function",
    "builtin_function_or_method",
    "instance",
    "_Feature"
   ],
   "window_display": false
  }
 },
 "nbformat": 4,
 "nbformat_minor": 2
}
